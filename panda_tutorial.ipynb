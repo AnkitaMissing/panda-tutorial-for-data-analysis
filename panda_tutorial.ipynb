{
  "nbformat": 4,
  "nbformat_minor": 0,
  "metadata": {
    "colab": {
      "provenance": [],
      "authorship_tag": "ABX9TyMwXfCvp6ILPgOUdrG83j+4",
      "include_colab_link": true
    },
    "kernelspec": {
      "name": "python3",
      "display_name": "Python 3"
    },
    "language_info": {
      "name": "python"
    }
  },
  "cells": [
    {
      "cell_type": "markdown",
      "metadata": {
        "id": "view-in-github",
        "colab_type": "text"
      },
      "source": [
        "<a href=\"https://colab.research.google.com/github/AnkitaMissing/panda-tutorial-for-data-analysis/blob/main/panda_tutorial.ipynb\" target=\"_parent\"><img src=\"https://colab.research.google.com/assets/colab-badge.svg\" alt=\"Open In Colab\"/></a>"
      ]
    },
    {
      "cell_type": "code",
      "execution_count": 17,
      "metadata": {
        "id": "-lN64fEKsMbX",
        "colab": {
          "base_uri": "https://localhost:8080/",
          "height": 584
        },
        "outputId": "27b54296-9278-4c94-cb41-4ff39cea4e24"
      },
      "outputs": [
        {
          "output_type": "stream",
          "name": "stderr",
          "text": [
            "<ipython-input-17-108a74e32652>:19: SettingWithCopyWarning: \n",
            "A value is trying to be set on a copy of a slice from a DataFrame\n",
            "\n",
            "See the caveats in the documentation: https://pandas.pydata.org/pandas-docs/stable/user_guide/indexing.html#returning-a-view-versus-a-copy\n",
            "  ankita['speed'][0]=50 # to modify a specific value\n",
            "<ipython-input-17-108a74e32652>:32: FutureWarning: Setting an item of incompatible dtype is deprecated and will raise in a future error of pandas. Value 'ankita' has dtype incompatible with float64, please explicitly cast to a compatible dtype first.\n",
            "  newdf[0][0]='ankita'\n",
            "<ipython-input-17-108a74e32652>:49: SettingWithCopyWarning: \n",
            "A value is trying to be set on a copy of a slice from a DataFrame\n",
            "\n",
            "See the caveats in the documentation: https://pandas.pydata.org/pandas-docs/stable/user_guide/indexing.html#returning-a-view-versus-a-copy\n",
            "  newdf3[0][0]=97835\n"
          ]
        },
        {
          "output_type": "error",
          "ename": "ValueError",
          "evalue": "Worksheet named 'Sheet 1' not found",
          "traceback": [
            "\u001b[0;31m---------------------------------------------------------------------------\u001b[0m",
            "\u001b[0;31mValueError\u001b[0m                                Traceback (most recent call last)",
            "\u001b[0;32m<ipython-input-17-108a74e32652>\u001b[0m in \u001b[0;36m<cell line: 104>\u001b[0;34m()\u001b[0m\n\u001b[1;32m    102\u001b[0m \u001b[0mdata\u001b[0m\u001b[0;34m=\u001b[0m\u001b[0mpd\u001b[0m\u001b[0;34m.\u001b[0m\u001b[0mread_excel\u001b[0m\u001b[0;34m(\u001b[0m\u001b[0;34m'data.xlsx'\u001b[0m\u001b[0;34m)\u001b[0m\u001b[0;34m\u001b[0m\u001b[0;34m\u001b[0m\u001b[0m\n\u001b[1;32m    103\u001b[0m \u001b[0mdata\u001b[0m\u001b[0;34m\u001b[0m\u001b[0;34m\u001b[0m\u001b[0m\n\u001b[0;32m--> 104\u001b[0;31m \u001b[0mdata1\u001b[0m\u001b[0;34m=\u001b[0m\u001b[0mpd\u001b[0m\u001b[0;34m.\u001b[0m\u001b[0mread_excel\u001b[0m\u001b[0;34m(\u001b[0m\u001b[0;34m'data.xlsx'\u001b[0m\u001b[0;34m,\u001b[0m\u001b[0msheet_name\u001b[0m\u001b[0;34m=\u001b[0m\u001b[0;34m'Sheet 1'\u001b[0m\u001b[0;34m)\u001b[0m\u001b[0;34m\u001b[0m\u001b[0;34m\u001b[0m\u001b[0m\n\u001b[0m\u001b[1;32m    105\u001b[0m \u001b[0mdata1\u001b[0m\u001b[0;34m\u001b[0m\u001b[0;34m\u001b[0m\u001b[0m\n\u001b[1;32m    106\u001b[0m \u001b[0;31m#data2=pd.read_excel('data.xlsx',sheet_name='Sheet2')\u001b[0m\u001b[0;34m\u001b[0m\u001b[0;34m\u001b[0m\u001b[0m\n",
            "\u001b[0;32m/usr/local/lib/python3.10/dist-packages/pandas/io/excel/_base.py\u001b[0m in \u001b[0;36mread_excel\u001b[0;34m(io, sheet_name, header, names, index_col, usecols, dtype, engine, converters, true_values, false_values, skiprows, nrows, na_values, keep_default_na, na_filter, verbose, parse_dates, date_parser, date_format, thousands, decimal, comment, skipfooter, storage_options, dtype_backend, engine_kwargs)\u001b[0m\n\u001b[1;32m    515\u001b[0m \u001b[0;34m\u001b[0m\u001b[0m\n\u001b[1;32m    516\u001b[0m     \u001b[0;32mtry\u001b[0m\u001b[0;34m:\u001b[0m\u001b[0;34m\u001b[0m\u001b[0;34m\u001b[0m\u001b[0m\n\u001b[0;32m--> 517\u001b[0;31m         data = io.parse(\n\u001b[0m\u001b[1;32m    518\u001b[0m             \u001b[0msheet_name\u001b[0m\u001b[0;34m=\u001b[0m\u001b[0msheet_name\u001b[0m\u001b[0;34m,\u001b[0m\u001b[0;34m\u001b[0m\u001b[0;34m\u001b[0m\u001b[0m\n\u001b[1;32m    519\u001b[0m             \u001b[0mheader\u001b[0m\u001b[0;34m=\u001b[0m\u001b[0mheader\u001b[0m\u001b[0;34m,\u001b[0m\u001b[0;34m\u001b[0m\u001b[0;34m\u001b[0m\u001b[0m\n",
            "\u001b[0;32m/usr/local/lib/python3.10/dist-packages/pandas/io/excel/_base.py\u001b[0m in \u001b[0;36mparse\u001b[0;34m(self, sheet_name, header, names, index_col, usecols, converters, true_values, false_values, skiprows, nrows, na_values, parse_dates, date_parser, date_format, thousands, comment, skipfooter, dtype_backend, **kwds)\u001b[0m\n\u001b[1;32m   1627\u001b[0m         \u001b[0;34m>>\u001b[0m\u001b[0;34m>\u001b[0m \u001b[0mfile\u001b[0m\u001b[0;34m.\u001b[0m\u001b[0mparse\u001b[0m\u001b[0;34m(\u001b[0m\u001b[0;34m)\u001b[0m  \u001b[0;31m# doctest: +SKIP\u001b[0m\u001b[0;34m\u001b[0m\u001b[0;34m\u001b[0m\u001b[0m\n\u001b[1;32m   1628\u001b[0m         \"\"\"\n\u001b[0;32m-> 1629\u001b[0;31m         return self._reader.parse(\n\u001b[0m\u001b[1;32m   1630\u001b[0m             \u001b[0msheet_name\u001b[0m\u001b[0;34m=\u001b[0m\u001b[0msheet_name\u001b[0m\u001b[0;34m,\u001b[0m\u001b[0;34m\u001b[0m\u001b[0;34m\u001b[0m\u001b[0m\n\u001b[1;32m   1631\u001b[0m             \u001b[0mheader\u001b[0m\u001b[0;34m=\u001b[0m\u001b[0mheader\u001b[0m\u001b[0;34m,\u001b[0m\u001b[0;34m\u001b[0m\u001b[0;34m\u001b[0m\u001b[0m\n",
            "\u001b[0;32m/usr/local/lib/python3.10/dist-packages/pandas/io/excel/_base.py\u001b[0m in \u001b[0;36mparse\u001b[0;34m(self, sheet_name, header, names, index_col, usecols, dtype, true_values, false_values, skiprows, nrows, na_values, verbose, parse_dates, date_parser, date_format, thousands, decimal, comment, skipfooter, dtype_backend, **kwds)\u001b[0m\n\u001b[1;32m    786\u001b[0m \u001b[0;34m\u001b[0m\u001b[0m\n\u001b[1;32m    787\u001b[0m             \u001b[0;32mif\u001b[0m \u001b[0misinstance\u001b[0m\u001b[0;34m(\u001b[0m\u001b[0masheetname\u001b[0m\u001b[0;34m,\u001b[0m \u001b[0mstr\u001b[0m\u001b[0;34m)\u001b[0m\u001b[0;34m:\u001b[0m\u001b[0;34m\u001b[0m\u001b[0;34m\u001b[0m\u001b[0m\n\u001b[0;32m--> 788\u001b[0;31m                 \u001b[0msheet\u001b[0m \u001b[0;34m=\u001b[0m \u001b[0mself\u001b[0m\u001b[0;34m.\u001b[0m\u001b[0mget_sheet_by_name\u001b[0m\u001b[0;34m(\u001b[0m\u001b[0masheetname\u001b[0m\u001b[0;34m)\u001b[0m\u001b[0;34m\u001b[0m\u001b[0;34m\u001b[0m\u001b[0m\n\u001b[0m\u001b[1;32m    789\u001b[0m             \u001b[0;32melse\u001b[0m\u001b[0;34m:\u001b[0m  \u001b[0;31m# assume an integer if not a string\u001b[0m\u001b[0;34m\u001b[0m\u001b[0;34m\u001b[0m\u001b[0m\n\u001b[1;32m    790\u001b[0m                 \u001b[0msheet\u001b[0m \u001b[0;34m=\u001b[0m \u001b[0mself\u001b[0m\u001b[0;34m.\u001b[0m\u001b[0mget_sheet_by_index\u001b[0m\u001b[0;34m(\u001b[0m\u001b[0masheetname\u001b[0m\u001b[0;34m)\u001b[0m\u001b[0;34m\u001b[0m\u001b[0;34m\u001b[0m\u001b[0m\n",
            "\u001b[0;32m/usr/local/lib/python3.10/dist-packages/pandas/io/excel/_openpyxl.py\u001b[0m in \u001b[0;36mget_sheet_by_name\u001b[0;34m(self, name)\u001b[0m\n\u001b[1;32m    581\u001b[0m \u001b[0;34m\u001b[0m\u001b[0m\n\u001b[1;32m    582\u001b[0m     \u001b[0;32mdef\u001b[0m \u001b[0mget_sheet_by_name\u001b[0m\u001b[0;34m(\u001b[0m\u001b[0mself\u001b[0m\u001b[0;34m,\u001b[0m \u001b[0mname\u001b[0m\u001b[0;34m:\u001b[0m \u001b[0mstr\u001b[0m\u001b[0;34m)\u001b[0m\u001b[0;34m:\u001b[0m\u001b[0;34m\u001b[0m\u001b[0;34m\u001b[0m\u001b[0m\n\u001b[0;32m--> 583\u001b[0;31m         \u001b[0mself\u001b[0m\u001b[0;34m.\u001b[0m\u001b[0mraise_if_bad_sheet_by_name\u001b[0m\u001b[0;34m(\u001b[0m\u001b[0mname\u001b[0m\u001b[0;34m)\u001b[0m\u001b[0;34m\u001b[0m\u001b[0;34m\u001b[0m\u001b[0m\n\u001b[0m\u001b[1;32m    584\u001b[0m         \u001b[0;32mreturn\u001b[0m \u001b[0mself\u001b[0m\u001b[0;34m.\u001b[0m\u001b[0mbook\u001b[0m\u001b[0;34m[\u001b[0m\u001b[0mname\u001b[0m\u001b[0;34m]\u001b[0m\u001b[0;34m\u001b[0m\u001b[0;34m\u001b[0m\u001b[0m\n\u001b[1;32m    585\u001b[0m \u001b[0;34m\u001b[0m\u001b[0m\n",
            "\u001b[0;32m/usr/local/lib/python3.10/dist-packages/pandas/io/excel/_base.py\u001b[0m in \u001b[0;36mraise_if_bad_sheet_by_name\u001b[0;34m(self, name)\u001b[0m\n\u001b[1;32m    637\u001b[0m     \u001b[0;32mdef\u001b[0m \u001b[0mraise_if_bad_sheet_by_name\u001b[0m\u001b[0;34m(\u001b[0m\u001b[0mself\u001b[0m\u001b[0;34m,\u001b[0m \u001b[0mname\u001b[0m\u001b[0;34m:\u001b[0m \u001b[0mstr\u001b[0m\u001b[0;34m)\u001b[0m \u001b[0;34m->\u001b[0m \u001b[0;32mNone\u001b[0m\u001b[0;34m:\u001b[0m\u001b[0;34m\u001b[0m\u001b[0;34m\u001b[0m\u001b[0m\n\u001b[1;32m    638\u001b[0m         \u001b[0;32mif\u001b[0m \u001b[0mname\u001b[0m \u001b[0;32mnot\u001b[0m \u001b[0;32min\u001b[0m \u001b[0mself\u001b[0m\u001b[0;34m.\u001b[0m\u001b[0msheet_names\u001b[0m\u001b[0;34m:\u001b[0m\u001b[0;34m\u001b[0m\u001b[0;34m\u001b[0m\u001b[0m\n\u001b[0;32m--> 639\u001b[0;31m             \u001b[0;32mraise\u001b[0m \u001b[0mValueError\u001b[0m\u001b[0;34m(\u001b[0m\u001b[0;34mf\"Worksheet named '{name}' not found\"\u001b[0m\u001b[0;34m)\u001b[0m\u001b[0;34m\u001b[0m\u001b[0;34m\u001b[0m\u001b[0m\n\u001b[0m\u001b[1;32m    640\u001b[0m \u001b[0;34m\u001b[0m\u001b[0m\n\u001b[1;32m    641\u001b[0m     def _check_skiprows_func(\n",
            "\u001b[0;31mValueError\u001b[0m: Worksheet named 'Sheet 1' not found"
          ]
        }
      ],
      "source": [
        "import numpy as np\n",
        "import pandas as pd\n",
        "dict1= {\n",
        "    \"name\":['harry','Rohan','skillf','shubh'],\n",
        "    \"marks\":[92,34,24,17],\n",
        "    \"city\":['Rampur','kolkata','bareilly','antarctica']\n",
        "}\n",
        "df=pd.DataFrame(dict1)\n",
        "df\n",
        "df.to_csv('friends.csv') #dataframe or excel sheet to csv conversion\n",
        "df.to_csv('friends_indexFalse.csv',index=False) # to remove index\n",
        "df.head(2) # if there are many rows then to show only above rows, we will give number and use head function\n",
        "df.tail(1)\n",
        "df.describe() # describe the numerical value to count,min,std(statistical) form\n",
        "ankita= pd.read_csv('ankita.csv') # read the data\n",
        "ankita\n",
        "ankita['speed'] #print specific column of sheet\n",
        "ankita['speed'][0] # 0 specifies the first element of speed column\n",
        "ankita['speed'][0]=50 # to modify a specific value\n",
        "ankita\n",
        "ankita.to_csv('ankita.csv') # will show modified value in sheet\n",
        "ankita.index=['first','second','third', 'fourth'] #to change the index no\n",
        "ankita\n",
        "ser= pd.Series(np.random.rand(34)) # to produce new series\n",
        "type(ser)\n",
        "newdf=pd.DataFrame(np.random.rand(334,5),index=np.arange(334)) # arange=range,\n",
        "newdf.head()\n",
        "type(newdf)\n",
        "newdf.describe()\n",
        "newdf.dtypes #datatype\n",
        "newdf.head()\n",
        "newdf[0][0]='ankita'\n",
        "newdf.head()\n",
        "newdf.index\n",
        "newdf.columns\n",
        "newdf.to_numpy() #dataframe to numpy array\n",
        "newdf[0][0]=0.3\n",
        "newdf.head()\n",
        "newdf.T #to get transpose\n",
        "newdf.head()\n",
        "newdf.sort_index(axis=0, ascending=False) # sorting in descending order according to index (row)\n",
        "newdf.sort_index(axis=1,ascending=False) # sorting in descending order accroding to column index\n",
        "newdf.head()\n",
        "type(newdf[0])\n",
        "newdf2=newdf #newdf2 is the view of newdf and we are storing newdf to newdf2 and we can modify newdf2 and get the modified result from original\n",
        "newdf2[0][0]=9783\n",
        "newdf\n",
        "newdf3=newdf.copy() #making a copy and copied version doesn't do well in modifying and it's just a copy of the original\n",
        "newdf3[0][0]=97835\n",
        "newdf\n",
        "newdf.loc[0,0]=654 #above 2 methods are being switched between two and we can't decide if it's copy or storing so we use lock function\n",
        "newdf.head()\n",
        "newdf.columns=[\"A\",\"B\",\"C\",\"D\",\"E\"] #to change column index\n",
        "newdf\n",
        "newdf.loc[0,0]=654 #it will create a extra column rather than changing the element as column indexes are changed\n",
        "newdf\n",
        "newdf.loc[0,'A']=65546\n",
        "newdf\n",
        "newdf=newdf.drop(0,axis=1) #to delete a column\n",
        "newdf.loc[[1,2],['C','D']] #to get specific row and column\n",
        "newdf.loc[:,['C','D']] #  to get all 0,1,2... index\n",
        "newdf.loc[[1,2],:] #to get all columns\n",
        "newdf.loc[(newdf['A']<0.2) & newdf['C']>0.1]\n",
        "newdf.head(2)\n",
        "newdf.iloc[0,4] # to get specific element. If it's loc then we will give A,B,C,D,E but for iloc, we will use number to get specific element\n",
        "newdf.head(3)\n",
        "newdf.drop(0,axis=0) #to drop the row\n",
        "newdf.drop([1,5],axis=0,inplace=True) # inplace function modify the whole original table and stores it\n",
        "newdf.drop(['A','B'],axis=1,inplace=True)\n",
        "newdf\n",
        "newdf.reset_index(drop=True,inplace=True) #after dropping,we want to sort the index and there is extra column 'index' and to remove this use drop=true\n",
        "newdf\n",
        "newdf['C'].isnull() # to check null\n",
        "newdf['C']=None # to assign same value to c column\n",
        "newdf.loc[:,['C']]=56 #to assign a value to all c column using loc\n",
        "newdf\n",
        "df=pd.DataFrame({\"name\": ['Alfred', 'Batman', 'Alfred'],\n",
        "                   \"toy\": [np.nan, 'Batmobile', 'Bullwhip'],\n",
        "                   \"born\": [pd.NaT, pd.Timestamp(\"1940-04-25\"),\n",
        "                            pd.NaT]})\n",
        "df.head()\n",
        "df.dropna(how='all',axis=1) # to remove column with nan value\n",
        "df.drop_duplicates(subset=['name'],keep='last') #to drop duplicates; here we copy alfred in 2 places;keep parameter keeps duplicate value in any place\n",
        "df.drop_duplicates(subset=['name'],keep=False)\n",
        "df.shape\n",
        "df.info\n",
        "df['name'].value_counts(dropna=False) #false gives nan count and true does not\n",
        "df.notnull()\n",
        "#dict2= {\n",
        " #   \"roll no\": [15,23,46],\n",
        "  #  \"marks\" : [90,80,85],\n",
        "#}\n",
        "#df4=pd.DataFrame(dict2)\n",
        "#df4\n",
        "#df4.describe()\n",
        "#df4.mean()\n",
        "#df4.corr()\n",
        "#df4.max()\n",
        "#df4.min()\n",
        "#df4.median()\n",
        "#df4.std()\n",
        "data=pd.read_excel('data.xlsx')\n",
        "data\n",
        "data1=pd.read_excel('data.xlsx',sheet_name='Sheet 1')\n",
        "data1\n",
        "#data2=pd.read_excel('data.xlsx',sheet_name='Sheet2')\n",
        "#data2\n",
        "#data2.iloc[0,0]=34\n",
        "#data2\n",
        "#data2.to_excel('data.xlsx',sheet_name='sheet 2')\n",
        "#data2"
      ]
    },
    {
      "cell_type": "code",
      "source": [
        "from google.colab import drive\n",
        "drive.mount('/content/drive')"
      ],
      "metadata": {
        "id": "WrgL6GWRhOzu"
      },
      "execution_count": null,
      "outputs": []
    }
  ]
}